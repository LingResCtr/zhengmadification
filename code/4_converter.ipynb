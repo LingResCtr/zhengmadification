{
 "cells": [
  {
   "attachments": {},
   "cell_type": "markdown",
   "id": "a3db671b-99a9-47cd-893f-cf5743201a2c",
   "metadata": {},
   "source": [
    "# ZhengMa Character Conversion: Converter"
   ]
  },
  {
   "cell_type": "markdown",
   "id": "76a0f33b",
   "metadata": {},
   "source": [
    "## 4 Converting between Characters & Codes"
   ]
  },
  {
   "cell_type": "markdown",
   "id": "a52ececf",
   "metadata": {},
   "source": [
    "So let's try to get a working implementation of a routine that converts from Chinese characters to Zheng Ma codes, and then back again."
   ]
  },
  {
   "cell_type": "code",
   "execution_count": 1,
   "id": "794906f4",
   "metadata": {},
   "outputs": [],
   "source": [
    "# If running in Google Colab\n",
    "#from google.colab import drive\n",
    "#drive.mount('/content/gdrive')\n",
    "#\n",
    "#path_prefix = \"/content/gdrive/My Drive/Colab Notebooks/zhengma/raw/\"\n",
    "#data_prefix = '/content/gdrive/My Drive/Colab Notebooks/zhengma/data/'"
   ]
  },
  {
   "cell_type": "code",
   "execution_count": 2,
   "id": "53f1580c",
   "metadata": {},
   "outputs": [],
   "source": [
    "# If running on local system\n",
    "path_prefix = \"../raw/\"\n",
    "data_prefix = '../data/'"
   ]
  },
  {
   "cell_type": "code",
   "execution_count": 3,
   "id": "1a2750c1",
   "metadata": {},
   "outputs": [],
   "source": [
    "import pickle \n",
    "\n",
    "# Load pickle    \n",
    "with open(data_prefix + 'df_zm_merged.pkl', 'rb') as pickle_file:\n",
    "    df_zm_merged = pickle.load(pickle_file)"
   ]
  },
  {
   "cell_type": "markdown",
   "id": "ce27028f",
   "metadata": {},
   "source": [
    "### 4.1 Characters to Codes"
   ]
  },
  {
   "attachments": {},
   "cell_type": "markdown",
   "id": "93545c90",
   "metadata": {},
   "source": [
    "We'll start simple: give me a character string, and I'll give you the code for each character.  We've tried this before, just returning any row where the character is the one we want.  But there could be several codes for a given character.  So we need to decide how to get only one code.  We can try taking the longest code."
   ]
  },
  {
   "cell_type": "code",
   "execution_count": 4,
   "id": "70f61117",
   "metadata": {},
   "outputs": [],
   "source": [
    "def characters_to_codes_simplistic(cjk_string, zm_dataframe, db_column='RIME Characters', zm_column='ZM Codes'):\n",
    "    # Input: \n",
    "    #   string of CJK characters\n",
    "    #   database of Zheng Ma codes as a pandas DataFrame\n",
    "    #   name of column to check for characters\n",
    "    #   name of column containing Zheng Ma codes\n",
    "    # Output: \n",
    "    #   list (dictionary?) of Zheng Ma codes\n",
    "    #     - In case of multiple code correspondences, choose the longest\n",
    "\n",
    "    characters = cjk_string.strip().replace(' ', '')\n",
    "\n",
    "    codes = []\n",
    "\n",
    "    for character in characters:\n",
    "        # Find any rows in the desired column that have the desired character\n",
    "        # Take the ZM codes in those rows as a list\n",
    "        possible_codes = zm_dataframe[zm_dataframe[db_column] == character][zm_column].tolist()\n",
    "\n",
    "        # Choose the **longest code** in that list of ZM codes\n",
    "        max_code = max(possible_codes, key=len) if possible_codes else None\n",
    "        # There could be several, so order alphabetically and pick the first\n",
    "        desired_codes = [c for c in possible_codes if len(c) == len(max_code)] if max_code else None\n",
    "        desired_code = sorted(desired_codes)[0] if desired_codes else 'N/A: no match'\n",
    "        codes.append([character, desired_code])\n",
    "    \n",
    "    return codes"
   ]
  },
  {
   "cell_type": "code",
   "execution_count": 5,
   "id": "eb9dbba9",
   "metadata": {},
   "outputs": [],
   "source": [
    "new_test_string1 = '三人行必有我師'\n",
    "new_test_string2 = '性相近也习相远也'"
   ]
  },
  {
   "cell_type": "code",
   "execution_count": 6,
   "id": "959d43dd",
   "metadata": {},
   "outputs": [
    {
     "name": "stdout",
     "output_type": "stream",
     "text": [
      "[['三', 'cd'], ['人', 'od'], ['行', 'oi'], ['必', 'wzm'], ['有', 'gdq'], ['我', 'mdhm'], ['師', 'N/A: no match']]\n"
     ]
    }
   ],
   "source": [
    "new_test_codes_output1 = characters_to_codes_simplistic(new_test_string1, df_zm_merged)\n",
    "print(new_test_codes_output1)"
   ]
  },
  {
   "cell_type": "code",
   "execution_count": 7,
   "id": "5a5e825d",
   "metadata": {},
   "outputs": [
    {
     "name": "stdout",
     "output_type": "stream",
     "text": [
      "[['性', 'umc'], ['相', 'flvv'], ['近', 'pdw'], ['也', 'yi'], ['习', 'yt'], ['相', 'flvv'], ['远', 'bdrw'], ['也', 'yi']]\n"
     ]
    }
   ],
   "source": [
    "new_test_codes_output2 = characters_to_codes_simplistic(new_test_string2, df_zm_merged)\n",
    "print(new_test_codes_output2)"
   ]
  },
  {
   "cell_type": "markdown",
   "id": "e76da69b",
   "metadata": {},
   "source": [
    "Nice.  So that worked.  At least basically."
   ]
  },
  {
   "cell_type": "markdown",
   "id": "c014cb2e",
   "metadata": {},
   "source": [
    "### 4.2 Codes to Characters"
   ]
  },
  {
   "cell_type": "markdown",
   "id": "7d6cb230",
   "metadata": {},
   "source": [
    "This is going to be a little dicey.  This time, you give me a list of codes, and I return you a list of characters.  The trick is, a given code could correspond to more than one Chinese character string.  So we need a heuristic: take only the single-character string.  Of course, there might be more than one, which could get us into hot water..."
   ]
  },
  {
   "cell_type": "code",
   "execution_count": 8,
   "id": "0f80579f",
   "metadata": {},
   "outputs": [],
   "source": [
    "def codes_to_characters_simplistic(code_list, zm_dataframe, db_column='RIME Characters', zm_column='ZM Codes'):\n",
    "    # Input: \n",
    "    #   list of ZM codes\n",
    "    #   database of Zheng Ma codes as a pandas DataFrame\n",
    "    #   name of column to check for characters\n",
    "    #   name of column containing Zheng Ma codes\n",
    "    # Output: \n",
    "    #   string of CJK characters\n",
    "    #     - In case of multiple character correspondences for a code, choose...\n",
    "\n",
    "    cjk_string = ''\n",
    "\n",
    "    for code in code_list:\n",
    "        # Make sure the code is a valid ZM code:\n",
    "        #   - fewer than 5 letters\n",
    "        #   - no spaces\n",
    "        if ' ' not in code:\n",
    "            if len(code) < 5:\n",
    "                # Get the characters for that code\n",
    "                possible_characters = zm_dataframe[zm_dataframe[zm_column] == code][db_column].tolist()\n",
    "                # Remove any empty strings\n",
    "                viable_characters = [x for x in possible_characters if (len(x) > 0)]\n",
    "                # Add the smallest string (hopefully 1 character)\n",
    "                # ... watch out: there might be more than one minimum...\n",
    "                # ... what does min() do?  return the first it finds in the list?\n",
    "                cjk_string += min(viable_characters, key=len)\n",
    "            else:\n",
    "                print('Code too long: {}'.format(code))\n",
    "        else:\n",
    "            print('Code should not contain spaces: {}'.format(code))\n",
    "    \n",
    "    return cjk_string"
   ]
  },
  {
   "cell_type": "code",
   "execution_count": 9,
   "id": "cdc94727",
   "metadata": {},
   "outputs": [],
   "source": [
    "new_test_codes1 = [ x[-1] for x in new_test_codes_output1]\n",
    "new_test_codes2 = [ y[-1] for y in new_test_codes_output2]"
   ]
  },
  {
   "cell_type": "code",
   "execution_count": 10,
   "id": "3ab5387a",
   "metadata": {},
   "outputs": [
    {
     "name": "stdout",
     "output_type": "stream",
     "text": [
      "Code should not contain spaces: N/A: no match\n",
      "三人行必有我\n"
     ]
    }
   ],
   "source": [
    "new_test_string_output1 = codes_to_characters_simplistic(new_test_codes1, df_zm_merged)\n",
    "print(new_test_string_output1)"
   ]
  },
  {
   "cell_type": "code",
   "execution_count": 11,
   "id": "3051c3c6",
   "metadata": {},
   "outputs": [
    {
     "name": "stdout",
     "output_type": "stream",
     "text": [
      "性相近也习相远也\n"
     ]
    }
   ],
   "source": [
    "new_test_string_output2 = codes_to_characters_simplistic(new_test_codes2, df_zm_merged)\n",
    "print(new_test_string_output2)"
   ]
  },
  {
   "cell_type": "markdown",
   "id": "4851a414",
   "metadata": {},
   "source": [
    "Nice!  That seems to have worked... I think..."
   ]
  },
  {
   "cell_type": "markdown",
   "id": "6ce5cc46",
   "metadata": {},
   "source": [
    "### 4.3 Unicode Comparison"
   ]
  },
  {
   "cell_type": "markdown",
   "id": "f8abc1e3",
   "metadata": {},
   "source": [
    "Now let's do the same procedure, but for Unicode."
   ]
  },
  {
   "cell_type": "code",
   "execution_count": 12,
   "id": "40d2d21f",
   "metadata": {},
   "outputs": [],
   "source": [
    "def characters_to_unicodes(cjk_string):\n",
    "    # Read a list of CJK characters (as strings)\n",
    "\t# Convert to a number, write the number in hexadecimal\n",
    "    return [hex(ord(x)) for x in cjk_string]"
   ]
  },
  {
   "cell_type": "markdown",
   "id": "aba627a9",
   "metadata": {},
   "source": [
    "Now for a little sanity check."
   ]
  },
  {
   "cell_type": "code",
   "execution_count": 13,
   "id": "c822b0ea",
   "metadata": {},
   "outputs": [
    {
     "name": "stdout",
     "output_type": "stream",
     "text": [
      "['0x4e09', '0x4eba', '0x884c', '0x5fc5', '0x6709', '0x6211', '0x5e2b']\n"
     ]
    }
   ],
   "source": [
    "new_test_unicodes_output1 = characters_to_unicodes(new_test_string1)\n",
    "print(new_test_unicodes_output1)"
   ]
  },
  {
   "cell_type": "code",
   "execution_count": 14,
   "id": "feba6b18",
   "metadata": {},
   "outputs": [
    {
     "name": "stdout",
     "output_type": "stream",
     "text": [
      "['0x6027', '0x76f8', '0x8fd1', '0x4e5f', '0x4e60', '0x76f8', '0x8fdc', '0x4e5f']\n"
     ]
    }
   ],
   "source": [
    "new_test_unicodes_output2 = characters_to_unicodes(new_test_string2)\n",
    "print(new_test_unicodes_output2)"
   ]
  },
  {
   "cell_type": "markdown",
   "id": "e25efdf8",
   "metadata": {},
   "source": [
    "And let's create a function to go in the opposite direction: from Unicode code points to Unicode characters."
   ]
  },
  {
   "cell_type": "code",
   "execution_count": 15,
   "id": "3afb4239",
   "metadata": {},
   "outputs": [],
   "source": [
    "def unicodes_to_characters(code_list):\n",
    "\t# Read a list of hexadecimal codes as strings (with '0x' prefix)\n",
    "\t# Convert to hexadecimal numbers, then get the corresponding Unicode character\n",
    "\treturn [chr(int(code, 16)) for code in code_list]"
   ]
  },
  {
   "cell_type": "markdown",
   "id": "2554eb4a",
   "metadata": {},
   "source": [
    "Now let's check."
   ]
  },
  {
   "cell_type": "code",
   "execution_count": 16,
   "id": "c49bd7e1",
   "metadata": {},
   "outputs": [],
   "source": [
    "new_test_unicodes1 = new_test_unicodes_output1\n",
    "new_test_unicodes2 = new_test_unicodes_output2"
   ]
  },
  {
   "cell_type": "code",
   "execution_count": 17,
   "id": "2fec2a2c",
   "metadata": {},
   "outputs": [
    {
     "name": "stdout",
     "output_type": "stream",
     "text": [
      "['三', '人', '行', '必', '有', '我', '師']\n"
     ]
    }
   ],
   "source": [
    "new_test_unicode_string_output1 = unicodes_to_characters(new_test_unicodes1)\n",
    "print(new_test_unicode_string_output1)"
   ]
  },
  {
   "cell_type": "code",
   "execution_count": 18,
   "id": "597dc7c4",
   "metadata": {},
   "outputs": [
    {
     "name": "stdout",
     "output_type": "stream",
     "text": [
      "['性', '相', '近', '也', '习', '相', '远', '也']\n"
     ]
    }
   ],
   "source": [
    "new_test_unicode_string_output2 = unicodes_to_characters(new_test_unicodes2)\n",
    "print(new_test_unicode_string_output2)"
   ]
  },
  {
   "cell_type": "markdown",
   "id": "139f50e4",
   "metadata": {},
   "source": [
    "It worked!"
   ]
  },
  {
   "cell_type": "markdown",
   "id": "c7a77415",
   "metadata": {},
   "source": []
  }
 ],
 "metadata": {
  "kernelspec": {
   "display_name": "Python 3.9.12 ('base')",
   "language": "python",
   "name": "python3"
  },
  "language_info": {
   "codemirror_mode": {
    "name": "ipython",
    "version": 3
   },
   "file_extension": ".py",
   "mimetype": "text/x-python",
   "name": "python",
   "nbconvert_exporter": "python",
   "pygments_lexer": "ipython3",
   "version": "3.9.16"
  },
  "nteract": {
   "version": "0.28.0"
  },
  "vscode": {
   "interpreter": {
    "hash": "3067ead486e059ec00ffe7555bdb889e6e264a24dc711bf108106cc7baee8d5d"
   }
  }
 },
 "nbformat": 4,
 "nbformat_minor": 5
}
