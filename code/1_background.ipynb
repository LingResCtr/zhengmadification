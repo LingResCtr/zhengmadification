{
 "cells": [
  {
   "attachments": {},
   "cell_type": "markdown",
   "id": "a3db671b-99a9-47cd-893f-cf5743201a2c",
   "metadata": {},
   "source": [
    "# ZhengMa Character Conversion: Background"
   ]
  },
  {
   "cell_type": "markdown",
   "id": "5bbba13e-46f3-4333-bd0d-7ae9324c5eb1",
   "metadata": {},
   "source": [
    "## 1 Initial Notes & Resources"
   ]
  },
  {
   "cell_type": "markdown",
   "id": "604d476b",
   "metadata": {},
   "source": [
    "### 1.1 Zheng Ma Tutorial"
   ]
  },
  {
   "attachments": {},
   "cell_type": "markdown",
   "id": "7d05df1c-b5af-439d-89bd-4fa564d7df12",
   "metadata": {},
   "source": [
    "We should begin by making clear our object of study.  Properly [written](https://chinese.yabla.com/chinese-english-pinyin-dictionary.php?define=zhengma), we're discussing the following encoding system.\n",
    "\n",
    "> - Traditional: 鄭碼\n",
    "> - Simplified: 郑码\n",
    "> - Pinyin: **Zhèng mǎ**\n",
    "> - Zheng coding\n",
    ">     - original Chinese character coding based on component shapes, created by Zheng Yili 鄭易里|郑易里[Zheng4 Yi4 li3], underlying most stroke-based Chinese input methods\n",
    ">     - also called common coding 字根通用碼|字根通用码[zi4 gen1 tong1 yong4 ma3]\n",
    "\n",
    "Note that the **[Arch Chinese Dictionary](https://www.archchinese.com/chinese_english_dictionary.html)** seems to give Zheng Ma codes for individual characters, providing quick and dirty access to Zheng Ma codes.  For those wishing to understand how the encoding works, a useful quick introduction to the mechanics of the ZhengMa input method can be found in [this Wikibooks resource](https://en.wikibooks.org/wiki/Zhengma_Input)."
   ]
  },
  {
   "cell_type": "markdown",
   "id": "d4a7e5ff",
   "metadata": {},
   "source": [
    "### 1.2 Windows Data Resources"
   ]
  },
  {
   "cell_type": "markdown",
   "id": "c9f56966",
   "metadata": {},
   "source": [
    "\n",
    "[This StackExchange thread](https://chinese.stackexchange.com/questions/83/learning-resources-for-zhengma-input-method) has a nice discussion of resources for learning about the ZhengMa input method and how to use it.  Most importantly, it mentions what specific file in the Microsoft Windows OS contains the encoding information: \n",
    "\n",
    "> On my computer it is found at `C:\\Program Files(x86)\\Windows NT\\TableTextService`; it is called `TableTextServiceSimplifiedZhengMa.txt`\n",
    "\n",
    "And [here](https://github.com/Furzoom/wubi/blob/master/TableTextServiceSimplifiedZhengMa.txt) I've managed to find a copy of that encoding file.  That's helpful!"
   ]
  },
  {
   "cell_type": "markdown",
   "id": "60b03bd1-4165-47bb-836f-92bc68ff2403",
   "metadata": {},
   "source": [
    "I just noted, however, some discrepancies between the ZhengMa input method description mentioned [above](https://en.wikibooks.org/wiki/Zhengma_Input) and the [Windows file](https://github.com/Furzoom/wubi/blob/master/TableTextServiceSimplifiedZhengMa.txt) I downloaded.  In particular, the description mentions how to arrive at ZM codes for various strings of several characters, e.g. for 4 characters:\n",
    "\n",
    "| Phrases | Phrase code | Character normal codes | Character short codes |\n",
    "| :-- | :-- | :-- | :-- |\n",
    "| 生态系统 | mgmz | mc+gdsw+mzvv+zszr | mc+gsw+mzv+zs |\n",
    "| 高等教育 | smbs | sjld+mbds+bmym+szq | sjl+ms+bmm+szq |\n",
    "\n",
    "and for more than 4 characters:\n",
    "\n",
    "| Phrases | Phrase code | Character normal codes | Character short codes |\n",
    "| :-- | :-- | :-- | :-- |\n",
    "| 新石器时代 | sgjk | sufp+ga+jjjj+kds+nhs | sf+ga+jjg+kd+nh |\n",
    "| 合成洗涤剂 | ohvv | odaj+hmy+vmrd+vrf+sonk | oaj+h+vmr+vrf+snk |\n",
    "| 中华人民共和国 | jnoy | jivv+nred+od+yybh+eao+mfj+jdcs | |\n",
    "| 全国工商业联合会 | ojbs | odc+jdcs+bi+suld+ku+ceug+odaj+odbz | |\n",
    "| 中国有色金属工业总公司 | jjgr | jivv+jdcs+gdq+ryia+pa+xmil+bi+ku+udjw+ozs+yaj | |\n",
    "\n",
    "But when I search the Windows file, I find\n",
    "\n",
    "> \"sgjk\"=\"相互影响\"\n",
    "\n",
    "which, in addition to having different characters than those in the table, is a 4- rather than a 5-character string!  And I don't find `mgmz` at all!  So that makes me wonder\n",
    "\n",
    "* How complete is the Windows database?\n",
    "* How universal are the codes for multi-character phrases?"
   ]
  },
  {
   "cell_type": "markdown",
   "id": "fe1e9dc3",
   "metadata": {},
   "source": [
    "### 1.3 `fcitx` Zheng Ma Resources"
   ]
  },
  {
   "cell_type": "markdown",
   "id": "6ce43bed-f240-4de2-a59c-1d0aa3c2256f",
   "metadata": {},
   "source": [
    "For comparison, I also found [this file](https://github.com/fcitx/fcitx-table-extra/blob/master/tables/zhengma-large.txt), called `zhengma-large.txt`, that's part of the Ubuntu package [`fcitx-table-extra`](https://github.com/fcitx/fcitx-table-extra), corresponding to [`fcitx`](https://github.com/fcitx).\n",
    "\n",
    "But there, for example, I only find `mgmz` as part of the following entry:\n",
    "\n",
    "> mgmzs 生态系统\n",
    "\n",
    "And for `sgjk`, I find\n",
    "\n",
    "> sgjkn 新石器时代\\\n",
    "> sgjk 𠝒\\\n",
    "> sgjk 𠝒\n",
    "\n",
    "So I don't really know what's going on there.  This time the strings look right, but the codes have an extra letter... making them **5-characters long!**  I thought the ZhengMa encoding tried to keep everything to 4 characters...\n",
    "\n",
    "Moreover, if we look at `av` in this file, we find\n",
    "\n",
    "> ^av 一\n",
    "\n",
    "... but in the previous file, we find\n",
    "\n",
    "> \"av\"=\"切\"\n",
    "\n",
    "So it seems that these don't agree, even on simple glyphs."
   ]
  },
  {
   "cell_type": "markdown",
   "id": "7356a81f",
   "metadata": {},
   "source": [
    "### 1.4 IBus Zheng Ma Data"
   ]
  },
  {
   "attachments": {},
   "cell_type": "markdown",
   "id": "2fe511c8-6922-484d-badc-2776c45d4756",
   "metadata": {
    "nteract": {
     "transient": {
      "deleting": false
     }
    }
   },
   "source": [
    "[This StackExchange thread](https://chinese.stackexchange.com/questions/43465/incomplete-list-of-free-chinese-input-methods-in-current-use) serves as a useful resource.  It lists a number of Chinese input methods (including both 4-corner and Zheng Ma), and it points to websites that have more information.\n",
    "\n",
    "In particular, for the Zheng Ma encoding, it points to [this website](www.zmfans.cn/bbs) and [this GitHub repo](https://github.com/acevery/ibus-table-zhengma) related to the [IBus input method](https://code.google.com/archive/p/ibus/) project.  The latter contains [this file](https://github.com/acevery/ibus-table-zhengma/blob/master/tables/zhengma.txt) called `zhengma.txt` which has another data store of the Zheng Ma codes and their corresponding characters."
   ]
  },
  {
   "cell_type": "markdown",
   "id": "9db63670",
   "metadata": {},
   "source": [
    "### 1.5 RIME Zheng Ma Data"
   ]
  },
  {
   "attachments": {},
   "cell_type": "markdown",
   "id": "2b999159-dc43-44d4-a8eb-7345d1aa988b",
   "metadata": {
    "nteract": {
     "transient": {
      "deleting": false
     }
    }
   },
   "source": [
    "The [RIME input system](https://rime.im/) for writing Chinese characters includes the file `zhengma.dict.yaml`, located [here](https://github.com/Openvingen/rime-zhengma/blob/master/zhengma.dict.yaml), as part of the [Zheng Ma extension](https://github.com/Openvingen/rime-zhengma).\n",
    "\n",
    "This file seems to share some of the same codes as `zhengma.txt` and `zhengma-large.txt` above, looking at a few simple codes, like `a`, `aa`, etc.  But we find some disagreement with the Windows file `TableTextServiceSimplifiedZhengMa.txt`, even just looking at the character represented by the code `a`.\n",
    "\n",
    "Moreover, the first handful of lines shows a number of instances where the same code corresponds to different character strings, undercutting the idea that Zheng Ma codes are (nearly) unique:\n",
    "\n",
    "```yaml\n",
    "a\t一\n",
    "a\t下\n",
    "a\t平\n",
    "aa\t一下\n",
    "aa\t一天\n",
    "aaac\t一无可取\n",
    "aaag\t无可无不可\n",
    "aaal\t百无一用\n",
    "aaam\t万无一失\n",
    "aaam\t天下无敌\n",
    "aaar\t可丁可卯\n",
    "aaav\t可歌可泣\n",
    "aaaw\t天下一家\n",
    "aaax\t天下无双\n",
    "aaax\t天下无难事\n",
    "aabk\t天无二日\n",
    "```\n",
    "\n",
    "Of course, the Zheng Ma encoding isn't *strictly* unique.  This really amounts to a question of how frequent such instances are in the rest of the file.  In addition, it's a question of whether this occurs only with strings of multiple Chinese characters, or with individual characters as well."
   ]
  },
  {
   "cell_type": "markdown",
   "id": "81a76efd",
   "metadata": {},
   "source": [
    "### 1.6 IBM Data?"
   ]
  },
  {
   "cell_type": "markdown",
   "id": "60bbb56d",
   "metadata": {},
   "source": [
    "Does IBM have a separate source file for this?  That's what [this page](https://www.ibm.com/docs/en/aix/7.2?topic=methods-simplified-chinese-input-method-zim-ucs) seems to suggest, which seems to refer to AIX 7.2 (whatever that is).  They say the following:\n",
    "\n",
    "> ZIM-UCS features the following characteristics:\n",
    "> \n",
    "> - The following commonly used input methods exist:\n",
    ">     - **Intelligent ABC**\n",
    ">         - An input method based on the phonetic representation of Chinese characters.\n",
    ">     - **Pin Yin Input Method**\n",
    ">         - An input method based on the phonetic representation of Chinese characters. A Chinese character is divided into one or several phonemes according to its pronunciation. \n",
    ">     - **Wu Bi (Five Strike) Input Method**\n",
    ">         - An input method based on the grapheme representation of Chinese characters. According to the WuBi grapheme input method, Chinese characters are classified into three levels: stroke, radical and single-character.\n",
    ">     - **Zheng Ma**\n",
    ">         - An input method based on the grapheme representation of Chinese word. \n",
    ">     - **Biao Xing Ma Input Method**\n",
    ">         - An input method in which a Chinese character is divided into several components,or radicals. When coding a character, these radicals are presented with the corresponding English letters.\n",
    ">     - **Internal Code Input Method**\n",
    ">         - An input method in accordance with the code table defined in GB18030 (Chinese Internal Code Specification) and UCS-2 (Unicode System Version 2).\n",
    "> \n",
    "> - Half-width and full-width character input. Supports ASCII characters in both single-byte and multibyte modes.\n",
    "> - Auxiliary window to support all the candidate lists. For example, Intelligent ABC generate a list of possible characters that contain the same sound symbols (*radicals*). Users select the desired characters by pressing the conversion key.\n",
    "> - Over-the-spot pre-editing drawing area. Allows entry of radicals in reverse video area that temporarily covers the text line. The complete character is sent to the editor by pressing the conversion key.\n",
    "> \n",
    "> The UCS-ZIM files are in the **/usr/lib/nls/loc** directory.\n",
    "> \n",
    "> The UCS-ZIM keymap is in the **/usr/lib/nls/loc/ZH_CN.UTF-8.imkeymap** directory.\n",
    "\n",
    "Now I guess I have to decipher that...  The home page seems to be [here](https://www.ibm.com/docs/en/aix/7.2), for the documentation at least.  Evidently AIX is a proprietary brand of UNIX developed by IBM, according to [this Wikipedia article](https://en.wikipedia.org/wiki/IBM_AIX).  Interestingly, it seems that AIX appeared in some form in 1990, while Linux only appeared in 1999.  (Is this right?)"
   ]
  }
 ],
 "metadata": {
  "kernelspec": {
   "display_name": "Python 3.9.12 ('base')",
   "language": "python",
   "name": "python3"
  },
  "language_info": {
   "codemirror_mode": {
    "name": "ipython",
    "version": 3
   },
   "file_extension": ".py",
   "mimetype": "text/x-python",
   "name": "python",
   "nbconvert_exporter": "python",
   "pygments_lexer": "ipython3",
   "version": "3.9.15 (main, Nov  4 2022, 11:11:31) \n[Clang 12.0.0 ]"
  },
  "nteract": {
   "version": "0.28.0"
  },
  "vscode": {
   "interpreter": {
    "hash": "3067ead486e059ec00ffe7555bdb889e6e264a24dc711bf108106cc7baee8d5d"
   }
  }
 },
 "nbformat": 4,
 "nbformat_minor": 5
}
